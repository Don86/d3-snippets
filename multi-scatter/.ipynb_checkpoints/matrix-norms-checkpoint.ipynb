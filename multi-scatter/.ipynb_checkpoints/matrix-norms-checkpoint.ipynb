{
 "cells": [
  {
   "cell_type": "code",
   "execution_count": 1,
   "metadata": {},
   "outputs": [],
   "source": [
    "%matplotlib inline\n",
    "import matplotlib.pyplot as plt\n",
    "\n",
    "import numpy as np\n",
    "\n",
    "\n",
    "def mmcd(mu_m0, mu_m1, cov_m0, cov_m1, beta_param = 1):\n",
    "    \"\"\"Calc mmcd squared. Assumes Euclidean space. \n",
    "    Uses the Frobby's norm formulation (eqn 22).\n",
    "    \n",
    "    PARAMS\n",
    "    ------\n",
    "    mu_m0, mu_m1: array of means\n",
    "    cov_m0, cov_m1: covariance matrix.\n",
    "    beta_param: Multiple of the MCD term. \n",
    "    \n",
    "    RETURNS\n",
    "    -------\n",
    "    mmcd: MMCD\n",
    "    \"\"\"\n",
    "    mmcd = np.linalg.norm((mu_m0 - mu_m1), ord=2)**2 + \\\n",
    "    beta_param * np.linalg.norm((cov_m0 - cov_m1), ord=\"fro\")\n",
    "    return mmcd\n",
    "\n",
    "\n",
    "def generate_mvn(x_range, y_range, rho, n_points=1000):\n",
    "    \"\"\"Generate n_points a 2D-MVN distro with points within x_range, y_range, \n",
    "    and correlation rho.\n",
    "    \"\"\"\n",
    "    mu = [x_range.mean(), y_range.mean()]  \n",
    "    stds = [x_range.std()/3, y_range.std()/3]\n",
    "    cov_m = [[stds[0]**2          , stds[0]*stds[1]*rho], \n",
    "            [stds[0]*stds[1]*rho,           stds[1]**2]]\n",
    "    \n",
    "    return np.random.multivariate_normal(mu, cov_m, 1000).T"
   ]
  },
  {
   "cell_type": "code",
   "execution_count": 18,
   "metadata": {},
   "outputs": [],
   "source": [
    "# Generate multivariate normal with correlated marginals\n",
    "# mvn0: independent normals\n",
    "# mvn1: positively correlated normals\n",
    "# mvn2: negatively correlated normals\n",
    "\n",
    "# Set maximum ranges of values\n",
    "x_range = np.array([-0.51, 51.2])\n",
    "y_range = np.array([0.33, 51.6])\n",
    "\n",
    "\n",
    "mu = [x_range.mean(), y_range.mean()]  \n",
    "stds = [x_range.std()/3, y_range.std()/3]\n",
    "\n",
    "moments_dict = {}\n",
    "mvn_ls = []\n",
    "for rho in [0.0, 0.3, 0.6, -0.3, -0.6]:\n",
    "    cov_m = [[stds[0]**2          , stds[0]*stds[1]*rho], \n",
    "            [stds[0]*stds[1]*rho,           stds[1]**2]]\n",
    "    mvn_ls.append(np.random.multivariate_normal(mu, cov_m, 1000).T)\n",
    "\n",
    "    moments_dict[str(rho)] = [np.array(mu), np.array(cov_m)]\n"
   ]
  },
  {
   "cell_type": "code",
   "execution_count": 15,
   "metadata": {},
   "outputs": [
    {
     "name": "stdout",
     "output_type": "stream",
     "text": [
      "62.488716238662235\n",
      "124.97743247732447\n",
      "62.488716238662235\n"
     ]
    }
   ],
   "source": [
    "print(mmcd(moments_dict[\"0.0\"][0], moments_dict[\"0.0\"][1]))"
   ]
  },
  {
   "cell_type": "code",
   "execution_count": 19,
   "metadata": {},
   "outputs": [
    {
     "data": {
      "text/plain": [
       "{'0.0': [array([25.345, 25.965]), array([[74.27566944,  0.        ],\n",
       "         [ 0.        , 73.017025  ]])],\n",
       " '0.3': [array([25.345, 25.965]), array([[74.27566944, 22.0930975 ],\n",
       "         [22.0930975 , 73.017025  ]])],\n",
       " '0.6': [array([25.345, 25.965]), array([[74.27566944, 44.186195  ],\n",
       "         [44.186195  , 73.017025  ]])],\n",
       " '-0.3': [array([25.345, 25.965]), array([[ 74.27566944, -22.0930975 ],\n",
       "         [-22.0930975 ,  73.017025  ]])],\n",
       " '-0.6': [array([25.345, 25.965]), array([[ 74.27566944, -44.186195  ],\n",
       "         [-44.186195  ,  73.017025  ]])]}"
      ]
     },
     "execution_count": 19,
     "metadata": {},
     "output_type": "execute_result"
    }
   ],
   "source": [
    "moments_dict"
   ]
  },
  {
   "cell_type": "code",
   "execution_count": null,
   "metadata": {},
   "outputs": [],
   "source": []
  }
 ],
 "metadata": {
  "kernelspec": {
   "display_name": "Python 3",
   "language": "python",
   "name": "python3"
  },
  "language_info": {
   "codemirror_mode": {
    "name": "ipython",
    "version": 3
   },
   "file_extension": ".py",
   "mimetype": "text/x-python",
   "name": "python",
   "nbconvert_exporter": "python",
   "pygments_lexer": "ipython3",
   "version": "3.7.1"
  }
 },
 "nbformat": 4,
 "nbformat_minor": 2
}
