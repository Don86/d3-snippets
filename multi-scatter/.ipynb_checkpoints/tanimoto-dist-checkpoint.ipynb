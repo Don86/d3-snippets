{
 "cells": [
  {
   "cell_type": "code",
   "execution_count": 1,
   "metadata": {},
   "outputs": [
    {
     "name": "stdout",
     "output_type": "stream",
     "text": [
      "/Users/don/Documents/scratch\n",
      "/Users/don/Documents/scratch\n",
      "/Users/don/Documents/scratch/Users/don/Documents/PyModules/skynet\n",
      "/Users/don/Documents/automata\n",
      "/Users/don/Documents/baltic3\n",
      "/Library/Frameworks/Python.framework/Versions/3.7/lib/python37.zip\n",
      "/Library/Frameworks/Python.framework/Versions/3.7/lib/python3.7\n",
      "/Library/Frameworks/Python.framework/Versions/3.7/lib/python3.7/lib-dynload\n",
      "\n",
      "/Users/don/Library/Python/3.7/lib/python/site-packages\n",
      "/Library/Frameworks/Python.framework/Versions/3.7/lib/python3.7/site-packages\n",
      "/Library/Frameworks/Python.framework/Versions/3.7/lib/python3.7/site-packages/IPython/extensions\n",
      "/Users/don/.ipython\n"
     ]
    }
   ],
   "source": [
    "import sys\n",
    "for x in sys.path:\n",
    "    print(x)"
   ]
  },
  {
   "cell_type": "code",
   "execution_count": null,
   "metadata": {},
   "outputs": [],
   "source": []
  }
 ],
 "metadata": {
  "kernelspec": {
   "display_name": "Python 3",
   "language": "python",
   "name": "python3"
  },
  "language_info": {
   "codemirror_mode": {
    "name": "ipython",
    "version": 3
   },
   "file_extension": ".py",
   "mimetype": "text/x-python",
   "name": "python",
   "nbconvert_exporter": "python",
   "pygments_lexer": "ipython3",
   "version": "3.7.1"
  }
 },
 "nbformat": 4,
 "nbformat_minor": 2
}
